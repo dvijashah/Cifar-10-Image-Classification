{
  "cells": [
    {
      "cell_type": "code",
      "execution_count": null,
      "metadata": {
        "id": "785f3535"
      },
      "outputs": [],
      "source": [
        "# dependencies\n",
        "import keras\n",
        "from keras.datasets import cifar10\n",
        "import matplotlib.pyplot as plt\n",
        "import matplotlib.image as mpim\n",
        "import pandas as pd\n",
        "import seaborn as sns\n",
        "import numpy as np\n",
        "from sklearn.preprocessing import StandardScaler\n",
        "from sklearn.decomposition import PCA\n",
        "from sklearn.metrics import classification_report, confusion_matrix, accuracy_score\n",
        "from sklearn.linear_model import LogisticRegression\n",
        "from sklearn import svm\n",
        "from sklearn.ensemble import RandomForestClassifier\n",
        "from sklearn.neighbors import KNeighborsClassifier\n",
        "import warnings\n",
        "warnings.filterwarnings(\"ignore\")"
      ],
      "id": "785f3535"
    },
    {
      "cell_type": "code",
      "execution_count": null,
      "metadata": {
        "colab": {
          "base_uri": "https://localhost:8080/"
        },
        "id": "2b270a82",
        "outputId": "d9f11993-9cd9-45b4-d684-6f4382ef2f51"
      },
      "outputs": [
        {
          "name": "stdout",
          "output_type": "stream",
          "text": [
            "Downloading data from https://www.cs.toronto.edu/~kriz/cifar-10-python.tar.gz\n",
            "170500096/170498071 [==============================] - 3s 0us/step\n",
            "170508288/170498071 [==============================] - 3s 0us/step\n",
            "x_train shape: (50000, 32, 32, 3)\n",
            "50000 x train samples\n",
            "10000 x test samples\n"
          ]
        }
      ],
      "source": [
        "# define num_class\n",
        "num_classes = 10\n",
        "\n",
        "# load dataset keras will download cifar-10 datset\n",
        "(x_train, y_train), (x_test, y_test) = cifar10.load_data()  \n",
        "\n",
        "print('x_train shape:', x_train.shape)\n",
        "print(x_train.shape[0], 'x train samples')\n",
        "print(x_test.shape[0], 'x test samples')\n",
        "\n",
        "# # # (Optional)Convert class vectors to binary class matrices.\n",
        "# y_train = keras.utils.np_utils.to_categorical(y_train, num_classes)\n",
        "# y_test = keras.utils.np_utils.to_categorical(y_test, num_classes)\n",
        "# print(y_train.shape[0], 'y train samples')\n",
        "# print(y_test.shape[0], 'y test samples')"
      ],
      "id": "2b270a82"
    },
    {
      "cell_type": "code",
      "execution_count": null,
      "metadata": {
        "colab": {
          "base_uri": "https://localhost:8080/"
        },
        "id": "bqGFdlkuc1ho",
        "outputId": "3d9dbaf5-b7cf-466f-ad32-9edd262c1a32"
      },
      "outputs": [
        {
          "name": "stdout",
          "output_type": "stream",
          "text": [
            "x_train shape: (50000, 32, 32, 3)\n",
            "y_train shape: (50000, 1)\n",
            "x_test shape: (10000, 32, 32, 3)\n",
            "y_test shape: (10000, 1)\n"
          ]
        }
      ],
      "source": [
        "#print shape of classes\n",
        "print('x_train shape:', x_train.shape)\n",
        "print('y_train shape:', y_train.shape)\n",
        "print('x_test shape:', x_test.shape)\n",
        "print('y_test shape:', y_test.shape)"
      ],
      "id": "bqGFdlkuc1ho"
    },
    {
      "cell_type": "code",
      "execution_count": null,
      "metadata": {
        "colab": {
          "base_uri": "https://localhost:8080/"
        },
        "id": "vEKVSplrd7Y5",
        "outputId": "83bb94a9-b451-4003-80bd-b62d84642b24"
      },
      "outputs": [
        {
          "name": "stdout",
          "output_type": "stream",
          "text": [
            "y_train shape: (50000,)\n",
            "y_test shape: (10000,)\n"
          ]
        }
      ],
      "source": [
        "y_train_f = y_train.flatten()\n",
        "y_test_f = y_test.flatten()\n",
        "print('y_train shape:', y_train_f.shape)\n",
        "print('y_test shape:', y_test_f.shape)"
      ],
      "id": "vEKVSplrd7Y5"
    },
    {
      "cell_type": "code",
      "execution_count": null,
      "metadata": {
        "colab": {
          "base_uri": "https://localhost:8080/",
          "height": 602
        },
        "id": "EnY20sy4uqFo",
        "outputId": "02b1212e-e282-4102-d695-08511e500b68"
      },
      "outputs": [
        {
          "data": {
            "text/plain": [
              "[[Text(0, 0, 'airplane'),\n",
              "  Text(0, 0, 'automobile'),\n",
              "  Text(0, 0, 'bird'),\n",
              "  Text(0, 0, 'cat'),\n",
              "  Text(0, 0, 'deer'),\n",
              "  Text(0, 0, 'dog'),\n",
              "  Text(0, 0, 'frog'),\n",
              "  Text(0, 0, 'horse'),\n",
              "  Text(0, 0, 'ship'),\n",
              "  Text(0, 0, 'truck')]]"
            ]
          },
          "execution_count": 5,
          "metadata": {},
          "output_type": "execute_result"
        },
        {
          "data": {
            "image/png": "[encoded data removed]",
            "text/plain": [
              "<Figure size 720x504 with 1 Axes>"
            ]
          },
          "metadata": {},
          "output_type": "display_data"
        }
      ],
      "source": [
        "#check the distribution of classes\n",
        "classes = ['airplane', 'automobile', 'bird', 'cat', 'deer', 'dog', 'frog', 'horse', 'ship', 'truck']\n",
        "\n",
        "plt.figure(figsize=(10,7))\n",
        "p = sns.countplot(y_train_f.flatten())\n",
        "p.set(xticklabels=classes)"
      ],
      "id": "EnY20sy4uqFo"
    },
    {
      "cell_type": "code",
      "execution_count": null,
      "metadata": {
        "colab": {
          "base_uri": "https://localhost:8080/"
        },
        "id": "xXHJHo8-mCAj",
        "outputId": "31fbab0d-ccfe-46f6-f098-8b954e409c0c"
      },
      "outputs": [
        {
          "name": "stdout",
          "output_type": "stream",
          "text": [
            "Total number of outputs :  10\n",
            "Output classes :  ['airplane', 'automobile', 'bird', 'cat', 'deer', 'dog', 'frog', 'horse', 'ship', 'truck']\n"
          ]
        }
      ],
      "source": [
        "#Visualize the data\n",
        "\n",
        "nClasses = len(classes)\n",
        "print('Total number of outputs : ', nClasses)\n",
        "print('Output classes : ', classes)"
      ],
      "id": "xXHJHo8-mCAj"
    },
    {
      "cell_type": "code",
      "execution_count": null,
      "metadata": {
        "id": "0p3SIVA1-qM0"
      },
      "outputs": [],
      "source": [
        "#Normalize the pixels between 0 and 1\n",
        "x_train = x_train.astype('float32')\n",
        "x_test = x_test.astype('float32')\n",
        "x_train /= 255.0\n",
        "x_test /= 255.0"
      ],
      "id": "0p3SIVA1-qM0"
    },
    {
      "cell_type": "code",
      "execution_count": null,
      "metadata": {
        "colab": {
          "base_uri": "https://localhost:8080/"
        },
        "id": "MsUzv8sA6rOJ",
        "outputId": "f0b97ec7-5d02-4336-b595-e36d538e0c12"
      },
      "outputs": [
        {
          "data": {
            "text/plain": [
              "(0.0, 1.0)"
            ]
          },
          "execution_count": 8,
          "metadata": {},
          "output_type": "execute_result"
        }
      ],
      "source": [
        "np.min(x_train),np.max(x_train)"
      ],
      "id": "MsUzv8sA6rOJ"
    },
    {
      "cell_type": "code",
      "execution_count": null,
      "metadata": {
        "id": "i_Kl2jp6G8Za"
      },
      "outputs": [],
      "source": [
        "x_train /= 255\n",
        "x_test /= 255"
      ],
      "id": "i_Kl2jp6G8Za"
    },
    {
      "cell_type": "code",
      "execution_count": null,
      "metadata": {
        "colab": {
          "base_uri": "https://localhost:8080/"
        },
        "id": "d8Mzv4WyG91C",
        "outputId": "52724cb1-77fb-427f-eae0-8a55260a4602"
      },
      "outputs": [
        {
          "data": {
            "text/plain": [
              "(0.0, 0.003921569)"
            ]
          },
          "execution_count": 10,
          "metadata": {},
          "output_type": "execute_result"
        }
      ],
      "source": [
        "np.min(x_train),np.max(x_train)"
      ],
      "id": "d8Mzv4WyG91C"
    },
    {
      "cell_type": "code",
      "execution_count": null,
      "metadata": {
        "colab": {
          "base_uri": "https://localhost:8080/"
        },
        "id": "uvZhZooDevWu",
        "outputId": "02631c53-9ffa-4328-c2ec-2fe2a53f149b"
      },
      "outputs": [
        {
          "data": {
            "text/plain": [
              "(50000, 32, 32, 3)"
            ]
          },
          "execution_count": 11,
          "metadata": {},
          "output_type": "execute_result"
        }
      ],
      "source": [
        "# Reshape image dimensions from 3 to 1\n",
        "x_train.shape"
      ],
      "id": "uvZhZooDevWu"
    },
    {
      "cell_type": "code",
      "execution_count": null,
      "metadata": {
        "id": "GWehl_8Se7mV"
      },
      "outputs": [],
      "source": [
        "x_train_flat = x_train.reshape(-1,3072)\n",
        "x_test_flat = x_test.reshape(-1,3072)"
      ],
      "id": "GWehl_8Se7mV"
    },
    {
      "cell_type": "code",
      "execution_count": null,
      "metadata": {
        "colab": {
          "base_uri": "https://localhost:8080/"
        },
        "id": "UgLSnugdmI9G",
        "outputId": "10e0cb60-c63b-491f-8045-c80ec4433725"
      },
      "outputs": [
        {
          "data": {
            "text/plain": [
              "array([[-2.51021720e-02,  1.07023781e-02,  5.88891795e-03, ...,\n",
              "         2.91363244e-06, -4.61924583e-06, -1.32565685e-06],\n",
              "       [ 3.25357378e-03, -3.72493314e-03,  2.35440210e-02, ...,\n",
              "        -2.87687016e-07,  2.25938220e-06, -3.02828562e-06],\n",
              "       [ 3.03142630e-02, -4.51844484e-02, -1.07985381e-02, ...,\n",
              "         3.02211834e-06, -8.72167732e-07, -1.54671841e-06],\n",
              "       ...,\n",
              "       [ 2.77358410e-03, -4.44801636e-02, -1.54481758e-03, ...,\n",
              "         1.62595643e-06,  7.31069122e-06,  5.67652660e-06],\n",
              "       [ 4.45796959e-02, -1.32387802e-02,  2.18281411e-02, ...,\n",
              "         2.28247657e-07,  2.88637148e-06, -6.55582699e-06],\n",
              "       [ 1.64419990e-02, -4.64357063e-03, -1.74352396e-02, ...,\n",
              "        -3.65694041e-06,  9.53823132e-07, -1.08534884e-07]], dtype=float32)"
            ]
          },
          "execution_count": 13,
          "metadata": {},
          "output_type": "execute_result"
        }
      ],
      "source": [
        "#Applied PCA to the Features of Cifar\n",
        "\n",
        "pca = PCA()\n",
        "pca.fit_transform(x_train_flat)"
      ],
      "id": "UgLSnugdmI9G"
    },
    {
      "cell_type": "code",
      "execution_count": null,
      "metadata": {
        "colab": {
          "base_uri": "https://localhost:8080/"
        },
        "id": "7wba-UYTmKH8",
        "outputId": "d96453a0-8bef-4df8-b4a2-218fcbaf9634"
      },
      "outputs": [
        {
          "data": {
            "text/plain": [
              "(3072,)"
            ]
          },
          "execution_count": 14,
          "metadata": {},
          "output_type": "execute_result"
        }
      ],
      "source": [
        "pca.explained_variance_.shape"
      ],
      "id": "7wba-UYTmKH8"
    },
    {
      "cell_type": "code",
      "execution_count": null,
      "metadata": {
        "colab": {
          "base_uri": "https://localhost:8080/"
        },
        "id": "c3mPKOtjmOEl",
        "outputId": "09f68b94-40dd-4442-c277-416ae1b89a7e"
      },
      "outputs": [
        {
          "data": {
            "text/plain": [
              "444"
            ]
          },
          "execution_count": 15,
          "metadata": {},
          "output_type": "execute_result"
        }
      ],
      "source": [
        "# Calculating optimal k\n",
        "\n",
        "k = 0\n",
        "total = sum(pca.explained_variance_)\n",
        "current_sum = 0\n",
        "\n",
        "while(current_sum / total < 0.98):\n",
        "    current_sum += pca.explained_variance_[k]\n",
        "    k += 1\n",
        "k"
      ],
      "id": "c3mPKOtjmOEl"
    },
    {
      "cell_type": "code",
      "execution_count": null,
      "metadata": {
        "id": "EIJEAlm4mY9K"
      },
      "outputs": [],
      "source": [
        "## Applying PCA with k calcuated above\n",
        "\n",
        "pca = PCA(n_components=k, whiten=True, svd_solver='randomized')\n",
        "\n",
        "x_train_pca = pca.fit_transform(x_train_flat)\n",
        "x_test_pca = pca.transform(x_test_flat)"
      ],
      "id": "EIJEAlm4mY9K"
    },
    {
      "cell_type": "markdown",
      "metadata": {
        "id": "v8HFUfMHnb_l"
      },
      "source": [
        "Logistic Regression"
      ],
      "id": "v8HFUfMHnb_l"
    },
    {
      "cell_type": "code",
      "execution_count": null,
      "metadata": {
        "colab": {
          "base_uri": "https://localhost:8080/"
        },
        "id": "yt4GK_l9IhkV",
        "outputId": "0abcd9b8-7a92-44ec-85b2-16b3614423b1"
      },
      "outputs": [
        {
          "data": {
            "text/plain": [
              "LogisticRegression()"
            ]
          },
          "execution_count": 17,
          "metadata": {},
          "output_type": "execute_result"
        }
      ],
      "source": [
        "## Training \n",
        "lr = LogisticRegression()\n",
        "lr.fit(x_train_pca, y_train)"
      ],
      "id": "yt4GK_l9IhkV"
    },
    {
      "cell_type": "code",
      "execution_count": null,
      "metadata": {
        "colab": {
          "base_uri": "https://localhost:8080/"
        },
        "id": "EMC8naZQnkCh",
        "outputId": "27f40c00-767e-431f-dc78-846f82bdb114"
      },
      "outputs": [
        {
          "data": {
            "text/plain": [
              "0.4104"
            ]
          },
          "execution_count": 18,
          "metadata": {},
          "output_type": "execute_result"
        }
      ],
      "source": [
        "## Predicting\n",
        "y_pred_lr = lr.predict(x_test_pca)\n",
        "logistic_regression_score = accuracy_score(y_test, y_pred_lr)\n",
        "logistic_regression_score"
      ],
      "id": "EMC8naZQnkCh"
    },
    {
      "cell_type": "markdown",
      "metadata": {
        "id": "j1zcyuIAnrWN"
      },
      "source": [
        "Support Vector Machine"
      ],
      "id": "j1zcyuIAnrWN"
    },
    {
      "cell_type": "code",
      "execution_count": null,
      "metadata": {
        "colab": {
          "background_save": true
        },
        "id": "Dxbusmq-nqqR",
        "outputId": "13e37d4f-2e89-4ee2-f36a-a949b1b99e91"
      },
      "outputs": [
        {
          "data": {
            "text/plain": [
              "SVC()"
            ]
          },
          "execution_count": null,
          "metadata": {},
          "output_type": "execute_result"
        }
      ],
      "source": [
        "## Training\n",
        "svc = svm.SVC()\n",
        "svc.fit(x_train_pca, y_train)"
      ],
      "id": "Dxbusmq-nqqR"
    },
    {
      "cell_type": "code",
      "execution_count": null,
      "metadata": {
        "colab": {
          "background_save": true
        },
        "id": "ay9nntg8nv6z",
        "outputId": "575cf3b1-81d5-4a33-ddc7-9fa70c7070a1"
      },
      "outputs": [
        {
          "data": {
            "text/plain": [
              "0.5146"
            ]
          },
          "execution_count": null,
          "metadata": {},
          "output_type": "execute_result"
        }
      ],
      "source": [
        "# Predicting \n",
        "y_pred_svm = svc.predict(x_test_pca)\n",
        "svc_score = accuracy_score(y_test, y_pred_svm)\n",
        "svc_score"
      ],
      "id": "ay9nntg8nv6z"
    },
    {
      "cell_type": "markdown",
      "metadata": {
        "id": "WRPkWDG7og5s"
      },
      "source": [
        "Random Forest"
      ],
      "id": "WRPkWDG7og5s"
    },
    {
      "cell_type": "code",
      "execution_count": null,
      "metadata": {
        "colab": {
          "background_save": true
        },
        "id": "3AJgC5KbogLj",
        "outputId": "1b88aeb8-f172-4bf1-da5e-bd78f7e3f0b2"
      },
      "outputs": [
        {
          "data": {
            "text/plain": [
              "RandomForestClassifier()"
            ]
          },
          "execution_count": null,
          "metadata": {},
          "output_type": "execute_result"
        }
      ],
      "source": [
        "#Training\n",
        "\n",
        "rf = RandomForestClassifier()\n",
        "rf.fit(x_train_pca, y_train)"
      ],
      "id": "3AJgC5KbogLj"
    },
    {
      "cell_type": "code",
      "execution_count": null,
      "metadata": {
        "colab": {
          "background_save": true
        },
        "id": "j27f7jz3optD",
        "outputId": "dbc0311b-5741-431f-ebc5-556f3ac796e6"
      },
      "outputs": [
        {
          "data": {
            "text/plain": [
              "0.4119"
            ]
          },
          "execution_count": null,
          "metadata": {},
          "output_type": "execute_result"
        }
      ],
      "source": [
        "# Predicting\n",
        "\n",
        "y_pred_rf = rf.predict(x_test_pca)\n",
        "\n",
        "random_forest_score = accuracy_score(y_test, y_pred_rf)\n",
        "random_forest_score"
      ],
      "id": "j27f7jz3optD"
    },
    {
      "cell_type": "markdown",
      "source": [
        "K-Neighbours"
      ],
      "metadata": {
        "id": "BSBF7aYBTaZF"
      },
      "id": "BSBF7aYBTaZF"
    },
    {
      "cell_type": "code",
      "source": [
        "# Train \n",
        "knn = KNeighborsClassifier()\n",
        "knn.fit(x_train_pca, y_train)"
      ],
      "metadata": {
        "colab": {
          "base_uri": "https://localhost:8080/"
        },
        "id": "f1pwVJyWTZoQ",
        "outputId": "83a6cca6-113e-45df-f4a2-300b0488b60d"
      },
      "id": "f1pwVJyWTZoQ",
      "execution_count": 32,
      "outputs": [
        {
          "output_type": "execute_result",
          "data": {
            "text/plain": [
              "KNeighborsClassifier()"
            ]
          },
          "metadata": {},
          "execution_count": 32
        }
      ]
    },
    {
      "cell_type": "code",
      "source": [
        "# Prediction\n",
        "y_pred_knn = knn.predict(x_test_pca)\n",
        "\n",
        "knn_score = accuracy_score(y_test, y_pred_knn)\n",
        "knn_score"
      ],
      "metadata": {
        "colab": {
          "base_uri": "https://localhost:8080/"
        },
        "id": "NxloK4naTg1a",
        "outputId": "73dcd889-27e1-4163-b3a9-d17a1761bce1"
      },
      "id": "NxloK4naTg1a",
      "execution_count": 33,
      "outputs": [
        {
          "output_type": "execute_result",
          "data": {
            "text/plain": [
              "0.1733"
            ]
          },
          "metadata": {},
          "execution_count": 33
        }
      ]
    },
    {
      "cell_type": "markdown",
      "source": [
        "Comparing all the models"
      ],
      "metadata": {
        "id": "KX6xEZ1lUVKK"
      },
      "id": "KX6xEZ1lUVKK"
    },
    {
      "cell_type": "code",
      "source": [
        "print(\"RandomForest \", random_forest_score)\n",
        "print(\"SVM : \", svc_score)\n",
        "print(\"KNN \", knn_score)\n",
        "print(\"Logistic Regression : \", logistic_regression_score)"
      ],
      "metadata": {
        "colab": {
          "base_uri": "https://localhost:8080/"
        },
        "id": "WKNcwP7DUUo-",
        "outputId": "de6c8a48-c6f5-4f4b-c3da-cad6845838f0"
      },
      "id": "WKNcwP7DUUo-",
      "execution_count": 34,
      "outputs": [
        {
          "output_type": "stream",
          "name": "stdout",
          "text": [
            "RandomForest  0.4119\n",
            "SVM :  0.5146\n",
            "KNN  0.1733\n",
            "Logistic Regression :  0.4104\n"
          ]
        }
      ]
    },
    {
      "cell_type": "code",
      "source": [
        "name = []\n",
        "for i in range(len(y_pred_svm)):\n",
        "    name.append(classes[y_pred_svm[i]])"
      ],
      "metadata": {
        "id": "FahymtzHUe9p"
      },
      "id": "FahymtzHUe9p",
      "execution_count": 36,
      "outputs": []
    },
    {
      "cell_type": "code",
      "source": [
        "np.savetxt(\"svmPred.csv\", name, fmt = '%s')"
      ],
      "metadata": {
        "id": "Ep8JEfDBUxRu"
      },
      "id": "Ep8JEfDBUxRu",
      "execution_count": 37,
      "outputs": []
    }
  ],
  "metadata": {
    "colab": {
      "name": "Cifar-10.ipynb",
      "provenance": []
    },
    "kernelspec": {
      "display_name": "Python 3",
      "language": "python",
      "name": "python3"
    },
    "language_info": {
      "codemirror_mode": {
        "name": "ipython",
        "version": 3
      },
      "file_extension": ".py",
      "mimetype": "text/x-python",
      "name": "python",
      "nbconvert_exporter": "python",
      "pygments_lexer": "ipython3",
      "version": "3.8.8"
    }
  },
  "nbformat": 4,
  "nbformat_minor": 5
}